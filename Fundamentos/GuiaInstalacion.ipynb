{
 "cells": [
  {
   "cell_type": "markdown",
   "metadata": {},
   "source": [
    "# Guia de Instalación"
   ]
  },
  {
   "cell_type": "markdown",
   "metadata": {},
   "source": [
    "Para preparar nuestro entorno de aprendizaje realizaremos las siguientes instalaciones:\n",
    "\n",
    "1. Python\n",
    "2. Visual Studio Code\n",
    "3. GitHub\n",
    "3. Git\n",
    "\n",
    "Por favor siga cada una de las instrucciones que se mencionan"
   ]
  },
  {
   "cell_type": "markdown",
   "metadata": {},
   "source": [
    "### [1. Python](https://www.python.org/)"
   ]
  },
  {
   "cell_type": "markdown",
   "metadata": {},
   "source": [
    "Python es un lenguaje de programación de alto nivel y de propósito general, creado por Guido van Rossum y lanzado por primera vez en 1991. Es conocido por ser fácil de aprender y leer, lo que lo hace muy popular entre programadores principiantes y experimentados por igual. Python se destaca por su sintaxis clara y legible, que se asemeja al lenguaje humano, lo que facilita la escritura y el mantenimiento del código."
   ]
  },
  {
   "cell_type": "markdown",
   "metadata": {},
   "source": [
    "#### Instalando Python\n",
    "\n",
    "Por favor tomar como referencia el siguiente video de instalación para python\n",
    "\n",
    "https://www.youtube.com/watch?v=j_ngd_1j7ME&ab_channel=TecnoHobbies\n",
    "\n",
    "\n",
    "\n",
    "Para realizar la instalación debes seguir los siguientes pasos:\n",
    "\n",
    "1. Ir a https://www.python.org/downloads/\n",
    "1. Dirigirse a la sección \"Downloads\" y descargar la última versión disponible de python\n",
    "1. Deberá elegir su versión de Sistema Operativo: Windows - macOS - Linux \n",
    "\n",
    "<br>\n",
    "\n",
    "Nota:\n",
    "\n",
    "**De contar con alguna versión de python previamente instalada en su sistema operativo o Anaconda no deberá instalar python**"
   ]
  },
  {
   "cell_type": "markdown",
   "metadata": {},
   "source": [
    "Hasta aqui hemos terminado con la instalación de python."
   ]
  },
  {
   "cell_type": "markdown",
   "metadata": {},
   "source": [
    "### [2. VISUAL STUDIO CODE](https://code.visualstudio.com/)"
   ]
  },
  {
   "cell_type": "markdown",
   "metadata": {},
   "source": [
    "Visual Studio Code es un editor de código fuente desarrollado por Microsoft para Windows, Linux y macOS. Incluye soporte para la depuración, control integrado de [Git](https://git-scm.com/), resaltado de sintaxis, finalización inteligente de código, fragmentos y refactorización de código."
   ]
  },
  {
   "cell_type": "markdown",
   "metadata": {},
   "source": [
    "<center><img src='https://code.visualstudio.com/assets/updates/1_37/icons.gif' width=\"700\" height=\"400\"></center>"
   ]
  },
  {
   "cell_type": "markdown",
   "metadata": {},
   "source": [
    "#### Instalando VsCode\n",
    "\n",
    "Puede usar el siguiente video a manera de guia (por favor verificar el paso 4)\n",
    "\n",
    "https://www.youtube.com/watch?v=7Xpohi_LvIk&ab_channel=TecnoHobbies\n",
    "\n",
    "\n",
    "Para realizar la instalación debes seguir los siguientes pasos:\n",
    "\n",
    "1. Ir a https://code.visualstudio.com/download\n",
    "1. Selecciona tu versión de Sistema Operativo: Windows - macOS - Linux"
   ]
  },
  {
   "cell_type": "markdown",
   "metadata": {},
   "source": [
    "\n",
    "<center><img src='./img/vscode/vscode_web.jpg' width=\"700\" height=\"400\"></center>\n",
    "\n"
   ]
  },
  {
   "cell_type": "markdown",
   "metadata": {},
   "source": [
    "3. Una vez descargado le damos a ejecutar y nos aparecera la siguiente pantalla"
   ]
  },
  {
   "cell_type": "markdown",
   "metadata": {},
   "source": [
    "<center><img src='./img/vscode/instalar_vscode_1.png' width=\"500\" height=\"300\"></center>"
   ]
  },
  {
   "cell_type": "markdown",
   "metadata": {},
   "source": [
    "4. Seleccionamos las casilas mostradas en la imagen y damos siguiente"
   ]
  },
  {
   "cell_type": "markdown",
   "metadata": {},
   "source": [
    "<center><img src='./img/vscode/instalar_vscode_2.png' width=\"500\" height=\"300\"></center>"
   ]
  },
  {
   "cell_type": "markdown",
   "metadata": {},
   "source": [
    "5. Una vez instalado inicializamos vscode y marcamos el cuadro rojo"
   ]
  },
  {
   "cell_type": "markdown",
   "metadata": {},
   "source": [
    "<center><img src='./img/vscode/vscode_1.png' width=\"700\" height=\"500\"></center>"
   ]
  },
  {
   "cell_type": "markdown",
   "metadata": {},
   "source": [
    "5. Escribimos <code>python</code> y damos a instalar. "
   ]
  },
  {
   "cell_type": "markdown",
   "metadata": {},
   "source": [
    "<center><img src='./img/vscode/vscode_2.png' width=\"700\" height=\"500\"></center>"
   ]
  },
  {
   "cell_type": "markdown",
   "metadata": {},
   "source": [
    "6. Una vez terminada la instalación podemos cerrar el programa."
   ]
  },
  {
   "cell_type": "markdown",
   "metadata": {},
   "source": [
    "### [3. Creación de Cuenta GitHub](https://github.com/)\n",
    "\n",
    "\n",
    "GitHub es una plataforma de desarrollo colaborativo basada en la web que se utiliza para el control de versiones y la gestión de proyectos de software. Fundada en 2008, GitHub proporciona herramientas para que los desarrolladores trabajen juntos en proyectos de software de código abierto y privados de manera eficiente.\n"
   ]
  },
  {
   "cell_type": "markdown",
   "metadata": {},
   "source": [
    "#### Instalando GitHub\n",
    "\n",
    "Seguir los pasos descritos en el video\n",
    "\n",
    "https://www.youtube.com/watch?v=RKXk_nc7icg&ab_channel=Problemitis"
   ]
  },
  {
   "cell_type": "markdown",
   "metadata": {},
   "source": [
    "### [4. Git](https://git-scm.com/)"
   ]
  },
  {
   "cell_type": "markdown",
   "metadata": {},
   "source": [
    "Git es un software de control de versiones diseñado por Linus Torvalds, pensando en la eficiencia, la confiabilidad y compatibilidad del mantenimiento de versiones de aplicaciones cuando estas tienen un gran número de archivos de código fuente"
   ]
  },
  {
   "cell_type": "markdown",
   "metadata": {},
   "source": [
    "\n",
    "\n",
    "<center><img src='./img/git/git.jpeg' width=\"500\" height=\"300\"></center>"
   ]
  },
  {
   "cell_type": "markdown",
   "metadata": {},
   "source": [
    "#### Instalando GIT\n",
    "\n",
    "Para realizar la instalación debes seguir los siguientes pasos:\n",
    "\n",
    "1. Ir a https://git-scm.com/\n",
    "1. Selecciona tu versión de Sistema Operativo: Windows - macOS - Linux\n",
    "1. Descargar el sofware que corresponda a su sistema operativo"
   ]
  },
  {
   "cell_type": "markdown",
   "metadata": {},
   "source": [
    "\n",
    "<center><img src='./img/git/descarga.jpg' width=\"500\" height=\"300\"></center>"
   ]
  },
  {
   "cell_type": "markdown",
   "metadata": {},
   "source": [
    "Después de descargar el instalador gráfico, debes abrirlo y seguir las instrucciones que se presentarán en pantalla. Estas son una serie de preguntas para realizar la instalación, las opciones por defecto están bien, no hay necesidad de cambiarlas."
   ]
  },
  {
   "cell_type": "markdown",
   "metadata": {},
   "source": [
    "Emplear el siguiente video a manera de guia\n",
    "\n",
    "https://www.youtube.com/watch?v=wHh3IgJvXcE&ab_channel=FalconMasters"
   ]
  }
 ],
 "metadata": {
  "kernelspec": {
   "display_name": "Python 3",
   "language": "python",
   "name": "python3"
  },
  "language_info": {
   "codemirror_mode": {
    "name": "ipython",
    "version": 3
   },
   "file_extension": ".py",
   "mimetype": "text/x-python",
   "name": "python",
   "nbconvert_exporter": "python",
   "pygments_lexer": "ipython3",
   "version": "3.11.5"
  }
 },
 "nbformat": 4,
 "nbformat_minor": 4
}
