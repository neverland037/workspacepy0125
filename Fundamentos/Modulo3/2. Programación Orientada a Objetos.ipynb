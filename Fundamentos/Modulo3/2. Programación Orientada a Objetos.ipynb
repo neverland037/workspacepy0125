{
 "cells": [
  {
   "cell_type": "markdown",
   "metadata": {},
   "source": [
    "# Programación Orientada a Objetos\n",
    "----------------------------"
   ]
  },
  {
   "cell_type": "markdown",
   "metadata": {},
   "source": [
    "## 1. Introducción a la Programación Orientada a Objetos (POO)\n"
   ]
  },
  {
   "cell_type": "markdown",
   "metadata": {},
   "source": [
    "### 1.1 Definición"
   ]
  },
  {
   "cell_type": "markdown",
   "metadata": {},
   "source": [
    "La **programación orientada a objetos** es un **paradigma de programación** que proporciona un medio **para estructurar programas de modo que las propiedades y los comportamientos se agrupen en objetos** individuales.\n",
    "\n",
    "\n",
    "En otras palabras, POO es un enfoque para modelar cosas concretas del mundo real, como automóviles, así como relaciones entre cosas, como empresas y empleados o estudiantes y profesores. **La programación orientada a objetos modela entidades del mundo real como objetos de software que tienen algunos datos asociados y pueden realizar ciertas operaciones**.\n",
    "\n",
    "\n",
    "\n",
    "**Conceptos Clave**\n",
    "\n",
    "- POO: Paradigma de programación basado en \"objetos\" que contiene datos y métodos.\n",
    "- Clase: Es un modelo o plantilla a partir del cual se crean objetos.\n",
    "- Objeto: El objeto es una entidad del mundo real\n",
    "- Principios POO: Encapsulamiento, Abstracción, Herencia, Polimorfismo.\n",
    "\n",
    "\n",
    "<img src='https://ricondelzorro.wordpress.com/wp-content/uploads/2016/03/objeto_expl.png'>"
   ]
  },
  {
   "cell_type": "code",
   "execution_count": 1,
   "metadata": {},
   "outputs": [],
   "source": [
    "#  Creamos la clase perro\n",
    "class Perro:\n",
    "    # método constructor\n",
    "    # nos permite inicializar los atributos de la clase\n",
    "    # self es una referencia a la instancia de la clase\n",
    "    def __init__(self, nombre, color, raza) -> None:\n",
    "        self.nombre = nombre\n",
    "        self.color = color\n",
    "        self.raza = raza\n",
    "        pass\n",
    "\n",
    "    # métodos de la clase, son funciones que pertenecen a la clase\n",
    "    def ladrar(self):\n",
    "        print(\"Guau Guau\")\n",
    "        pass\n",
    "\n",
    "    def oler(self):\n",
    "        print(\"Sniff Sniff\")\n",
    "        pass\n",
    "\n",
    "    def dormir(self):\n",
    "        print(\"Zzzzzzz\")\n",
    "        pass\n",
    "\n",
    "    def imprimir(self):\n",
    "        print(f\"Perro {self.nombre} de raza {self.raza} y color {self.color}\")\n",
    "        pass\n",
    "    pass"
   ]
  },
  {
   "cell_type": "code",
   "execution_count": 2,
   "metadata": {},
   "outputs": [
    {
     "name": "stdout",
     "output_type": "stream",
     "text": [
      "<__main__.Perro object at 0x7088f04e46e0>\n",
      "<__main__.Perro object at 0x7088f0304dd0>\n",
      "Perro Firulais de raza Pastor Aleman y color Cafe\n",
      "Perro Rex de raza Pitbull y color Blanco\n"
     ]
    }
   ],
   "source": [
    "# Instanciamos la clase Perro\n",
    "# Instanciar es crear un objeto de una clase\n",
    "\n",
    "perro1 = Perro(\"Firulais\", \"Cafe\", \"Pastor Aleman\")\n",
    "perro2 = Perro(\"Rex\", \"Blanco\", \"Pitbull\")\n",
    "\n",
    "# imprimimos los objetos, nos muestra la dirección de memoria\n",
    "print(perro1)\n",
    "print(perro2)\n",
    "\n",
    "# empleando método imprimir\n",
    "perro1.imprimir()\n",
    "perro2.imprimir()\n"
   ]
  },
  {
   "cell_type": "code",
   "execution_count": 3,
   "metadata": {},
   "outputs": [
    {
     "data": {
      "text/plain": [
       "'Firulais'"
      ]
     },
     "execution_count": 3,
     "metadata": {},
     "output_type": "execute_result"
    }
   ],
   "source": [
    "perro1.nombre"
   ]
  },
  {
   "cell_type": "markdown",
   "metadata": {},
   "source": [
    "**Self**\n",
    "\n",
    "- Clases son plantillas, son estas que al ser instanciadas las convertimos en objetos.\n",
    "- <code>self</code> es una palabra estandar utilizada en la definición de clase del objeto\n",
    "- Debe ser el primer argumento en cualquier método.\n",
    "- Python tomará <code>self</code> cuando se haga el llamado de algún objeto <code>perro1.dormir()</code> será interpretacomo como <code>Perro.dormir(perro1)</code>"
   ]
  },
  {
   "cell_type": "markdown",
   "metadata": {},
   "source": [
    "### 1.2 Atributos y Métodos de Clase"
   ]
  },
  {
   "cell_type": "markdown",
   "metadata": {},
   "source": [
    "Si hay algo que ilustre el potencial de la POO esa es la capacidad de definir variables y funciones dentro de las clases, aunque aquí se conocen como atributos y métodos respectivamente.\n",
    "\n",
    "<center> <h1> Object = attributes + methods </h1></center>\n",
    "\n",
    "- **Atributos:** A efectos prácticos los atributos no son muy distintos de las **variables**, la diferencia fundamental es que sólo existen dentro del objeto.\n",
    "\n",
    "- **Métodos:** Corresponde a las **\"funciones\"**, que evidentemente nos permiten definir funcionalidades para llamarlas desde los objetos. Definir un método es bastante simple, sólo tenemos que añadirlo en la clase y luego llamarlo desde el objeto con los paréntesis, como si de una función se tratase:\n"
   ]
  },
  {
   "cell_type": "markdown",
   "metadata": {},
   "source": [
    "<img src='./img/clase_example.PNG'>"
   ]
  },
  {
   "cell_type": "code",
   "execution_count": 5,
   "metadata": {},
   "outputs": [],
   "source": [
    "class Cliente:\n",
    "\n",
    "    # método constructor\n",
    "    def __init__(self, nombre, email) -> None:\n",
    "        self.nombre = nombre\n",
    "        self.email = email\n",
    "        pass\n",
    "\n",
    "    # definimos los métodos o funcioens de la clase\n",
    "    def place_order(self):\n",
    "        print(f\"{self.nombre} ha hecho un pedido\")\n",
    "        pass\n",
    "    \n",
    "    def cancel_order(self):\n",
    "        print(f\"{self.nombre} ha cancelado su pedido\")\n",
    "        pass\n",
    "\n",
    "    def pay(self):\n",
    "        print(f\"{self.nombre} ha pagado su pedido\")\n",
    "        pass\n",
    "    \n",
    "    def set_age(self, edad):\n",
    "        self.edad = edad\n",
    "        pass\n",
    "\n",
    "    \n",
    "    def __str__(self) -> str:\n",
    "        # si el atributo edad existe en el objeto, imprimimos la edad\n",
    "        if hasattr(self, \"edad\"):\n",
    "            return f\"Cliente {self.nombre} de {self.edad} años con email {self.email}\"\n",
    "        return f\"Cliente {self.nombre} con email {self.email}\"\n",
    "    pass"
   ]
  },
  {
   "cell_type": "code",
   "execution_count": 6,
   "metadata": {},
   "outputs": [
    {
     "name": "stdout",
     "output_type": "stream",
     "text": [
      "Cliente Lara de 25 años con email lara@company.com\n",
      "Cliente Dave con email dave@company.com\n",
      "Cliente Tess con email tess@company.com\n",
      "Lara ha hecho un pedido\n",
      "Lara ha pagado su pedido\n"
     ]
    }
   ],
   "source": [
    "# Creamos 3 objetos\n",
    "\n",
    "customer_lara = Cliente(\"Lara\", \"lara@company.com\")\n",
    "customer_dave = Cliente(\"Dave\", \"dave@company.com\")\n",
    "customer_tess = Cliente(\"Tess\", \"tess@company.com\")\n",
    "\n",
    "# a lara le asignamos una edad\n",
    "customer_lara.set_age(25)\n",
    "\n",
    "# imprimimos los objetos\n",
    "print(customer_lara)\n",
    "print(customer_dave)\n",
    "print(customer_tess)\n",
    "\n",
    "# lara hace un pedido\n",
    "customer_lara.place_order()\n",
    "customer_lara.pay()"
   ]
  },
  {
   "cell_type": "markdown",
   "metadata": {},
   "source": [
    "### 1.3 En Python todos son Objetos y Clases"
   ]
  },
  {
   "cell_type": "markdown",
   "metadata": {},
   "source": [
    "\n",
    "\n",
    "En Python todo es un “objeto” y debe ser manipulado -y entendido- como tal. Pero ¿Qué es un objeto? ¿De qué hablamos cuando nos referimos a “orientación a objetos? En este capítulo, haremos una introducción que responderá a estas -y muchas otras- preguntas. \n"
   ]
  },
  {
   "cell_type": "markdown",
   "metadata": {},
   "source": [
    "<img src='./img/python_objects.PNG'>"
   ]
  },
  {
   "cell_type": "code",
   "execution_count": 7,
   "metadata": {},
   "outputs": [
    {
     "data": {
      "text/plain": [
       "str"
      ]
     },
     "execution_count": 7,
     "metadata": {},
     "output_type": "execute_result"
    }
   ],
   "source": [
    "type('hola')"
   ]
  },
  {
   "cell_type": "code",
   "execution_count": 8,
   "metadata": {},
   "outputs": [
    {
     "data": {
      "text/plain": [
       "[1, 2, 3, 4, 5, 8]"
      ]
     },
     "execution_count": 8,
     "metadata": {},
     "output_type": "execute_result"
    }
   ],
   "source": [
    "# crear un objeto de la clase list\n",
    "listado_numero = [1, 2, 3, 4, 5]\n",
    "\n",
    "# emplear un método de la clase list\n",
    "listado_numero.append(8)\n",
    "\n",
    "listado_numero \n"
   ]
  },
  {
   "cell_type": "markdown",
   "metadata": {},
   "source": [
    "## 2. Principios POO\n",
    "\n",
    "La programación orientada a objetos posee 4 principios fundamentales: Abstracción, Herencia, Polimorfismo, Encapsulamiento"
   ]
  },
  {
   "cell_type": "markdown",
   "metadata": {},
   "source": [
    "### 2.1 Abstracción\n",
    "\n",
    "Consiste en la identificar aquellas características (atributos) y acciones o comportamientos (métodos) propios de un elemento que deseemos representar"
   ]
  },
  {
   "cell_type": "code",
   "execution_count": 9,
   "metadata": {},
   "outputs": [],
   "source": [
    "#  Representación de una persona\n",
    "class Persona:\n",
    "    # definimos sus atributos\n",
    "    def __init__(self, name, age):\n",
    "        self.name =  name\n",
    "        self.age = age\n",
    "    \n",
    "    # definimos sus métodos\n",
    "    def imprimir(self):\n",
    "        print(f'Nombre: {self.name}\\nEdad: {self.age}')"
   ]
  },
  {
   "cell_type": "markdown",
   "metadata": {},
   "source": [
    "### 2.2 Herencia"
   ]
  },
  {
   "cell_type": "markdown",
   "metadata": {},
   "source": [
    "\n",
    "La herencia es un **concepto que nos permite crear una clase nueva a partir de una clase existente**\n",
    "\n",
    "- Por medio de la herencia, la nueva clase compartirá propiedades y/o métodos con la clase padre\n",
    "\n",
    "<center>\n",
    "<img src='https://libros.catedu.es/uploads/images/gallery/2022-02/embedded-image-xp2tzeuy.png'>\n",
    "</center>\n",
    "\n",
    "**Diagramas UML**:\n",
    "\n",
    "Los diagramás UML es una forma gráfica de representar las relaciones entre las entidades, además de la estructura de las mismas."
   ]
  },
  {
   "cell_type": "code",
   "execution_count": 10,
   "metadata": {},
   "outputs": [
    {
     "name": "stdout",
     "output_type": "stream",
     "text": [
      "Marca: Toyota, Modelo: Corolla, Matricula: 1234ABC, Ancho: 2.5, Alto: 1.5\n",
      "Marca: Honda, Modelo: CBR, Matricula: 5678DEF, Cilindrada: 250\n"
     ]
    }
   ],
   "source": [
    "# Creación de una clase Vehiculo, Clase padre\n",
    "class Vehiculo:\n",
    "    def __init__(self, marca, modelo, matricula):\n",
    "        self.marca = marca\n",
    "        self.modelo = modelo\n",
    "        self.matricula = matricula\n",
    "\n",
    "    def __str__(self):\n",
    "        return f\"Marca: {self.marca}, Modelo: {self.modelo}, Matricula: {self.matricula}\"\n",
    "\n",
    "# Creación de una clase Coche que hereda de Vehiculo, clase hija\n",
    "class Coche(Vehiculo):\n",
    "    def __init__(self, marca, modelo, matricula, anchura, altura):\n",
    "        # Llamamos al constructor de la clase padre\n",
    "        super().__init__(marca, modelo, matricula)\n",
    "        # Atributo propio de la clase Coche\n",
    "        self.ancho = anchura\n",
    "        self.alto = altura\n",
    "\n",
    "    # sobreescritura del método __str__, para añadir los atributos propios de la clase Coche\n",
    "    def __str__(self):\n",
    "        # Llamamos al método __str__ de la clase padre y añadimos los atributos propios de la clase Coche\n",
    "        return super().__str__() + f\", Ancho: {self.ancho}, Alto: {self.alto}\"\n",
    "\n",
    "# Creación de una clase Moto que hereda de Vehiculo, clase hija\n",
    "class Moto(Vehiculo):\n",
    "    def __init__(self, marca, modelo, matricula, cilindrada):\n",
    "        super().__init__(marca, modelo, matricula)\n",
    "        self.cilindrada = cilindrada\n",
    "    \n",
    "    # sobreescritura del método __str__, para añadir los atributos propios de la clase Moto\n",
    "    def __str__(self):\n",
    "        # Llamamos al método __str__ de la clase padre y añadimos los atributos propios de la clase Moto\n",
    "        return super().__str__() + f\", Cilindrada: {self.cilindrada}\"\n",
    "\n",
    "\n",
    "# Creamos un objeto de la clase Coche\n",
    "mi_coche = Coche(\"Toyota\", \"Corolla\", \"1234ABC\", 2.5, 1.5)\n",
    "print(mi_coche)\n",
    "\n",
    "# Creamos un objeto de la clase Moto\n",
    "mi_moto = Moto(\"Honda\", \"CBR\", \"5678DEF\", 250)\n",
    "print(mi_moto)\n"
   ]
  },
  {
   "cell_type": "markdown",
   "metadata": {},
   "source": [
    "### 2.3 Polimorfismo"
   ]
  },
  {
   "cell_type": "markdown",
   "metadata": {},
   "source": [
    "Consiste en que un objeto puede comportarse de diferentes maneras según el contexto en el que se encuentre.\n",
    "\n",
    "Ejemplo:  Si pagamos con tarjeta de credito o realizamos un pago con Yape, la validación del pago se hará de forma distinta\n",
    "\n",
    "\n",
    "- Métodos Sobreescritos\n"
   ]
  },
  {
   "cell_type": "code",
   "execution_count": 11,
   "metadata": {},
   "outputs": [
    {
     "name": "stdout",
     "output_type": "stream",
     "text": [
      "Guau\n",
      "Miau\n"
     ]
    }
   ],
   "source": [
    "# Creación de una clase Animal\n",
    "class Animal:\n",
    "    def hablar(self):\n",
    "        pass\n",
    "\n",
    "# Creación de las clases Perro y Gato que heredan de Animal\n",
    "class Perro(Animal):\n",
    "    # sobreescritura del método hablar\n",
    "    def hablar(self):\n",
    "        return \"Guau\"\n",
    "\n",
    "class Gato(Animal):\n",
    "    # sobreescritura del método hablar\n",
    "    def hablar(self):\n",
    "        return \"Miau\"\n",
    "\n",
    "# Creamos una lista de animales\n",
    "animales = [Perro(), Gato()]\n",
    "for animal in animales:\n",
    "    print(animal.hablar())\n"
   ]
  },
  {
   "cell_type": "markdown",
   "metadata": {},
   "source": [
    "### 2.4 Encapsulamiento\n",
    "\n",
    "Permite definir atributos considerados como privados, solo accesibles por la clase"
   ]
  },
  {
   "cell_type": "code",
   "execution_count": 12,
   "metadata": {},
   "outputs": [
    {
     "name": "stdout",
     "output_type": "stream",
     "text": [
      "Toyota\n"
     ]
    }
   ],
   "source": [
    "class Coche:\n",
    "    def __init__(self, marca, modelo):\n",
    "        self.__marca = marca\n",
    "        # Atributo privado, solo accesible desde dentro de la clase\n",
    "        # '__nombreAtributo' es un convenio para indicar que un atributo es privado\n",
    "        self.__modelo = modelo\n",
    "\n",
    "    def get_marca(self):\n",
    "        return self.__marca\n",
    "\n",
    "mi_coche = Coche(\"Toyota\", \"Corolla\")\n",
    "print(mi_coche.get_marca())\n"
   ]
  },
  {
   "cell_type": "code",
   "execution_count": 13,
   "metadata": {},
   "outputs": [
    {
     "ename": "AttributeError",
     "evalue": "'Coche' object has no attribute '__modelo'",
     "output_type": "error",
     "traceback": [
      "\u001b[0;31m---------------------------------------------------------------------------\u001b[0m",
      "\u001b[0;31mAttributeError\u001b[0m                            Traceback (most recent call last)",
      "Cell \u001b[0;32mIn[13], line 1\u001b[0m\n\u001b[0;32m----> 1\u001b[0m \u001b[43mmi_coche\u001b[49m\u001b[38;5;241;43m.\u001b[39;49m\u001b[43m__modelo\u001b[49m\n",
      "\u001b[0;31mAttributeError\u001b[0m: 'Coche' object has no attribute '__modelo'"
     ]
    }
   ],
   "source": [
    "mi_coche.__modelo"
   ]
  },
  {
   "cell_type": "markdown",
   "metadata": {},
   "source": [
    "### Ejercicios\n",
    "-------------------------"
   ]
  },
  {
   "cell_type": "markdown",
   "metadata": {},
   "source": [
    "1. Define una clase Persona con atributos nombre y edad. Crea un objeto y muestra sus atributos. Añade el método <code>__str_</code> \n",
    "\n"
   ]
  },
  {
   "cell_type": "code",
   "execution_count": 15,
   "metadata": {},
   "outputs": [
    {
     "name": "stdout",
     "output_type": "stream",
     "text": [
      "Nombre: Juan, Edad: 25\n"
     ]
    }
   ],
   "source": [
    "class Persona:\n",
    "\n",
    "    def __init__(self, nombre, edad):\n",
    "        self.nombre = nombre\n",
    "        self.edad = edad\n",
    "\n",
    "    def __str__(self):\n",
    "        return f\"Nombre: {self.nombre}, Edad: {self.edad}\"\n",
    "    \n",
    "persona1 = Persona(\"Juan\", 25)\n",
    "print(persona1)\n"
   ]
  },
  {
   "cell_type": "code",
   "execution_count": 16,
   "metadata": {},
   "outputs": [
    {
     "data": {
      "text/plain": [
       "'Juan'"
      ]
     },
     "execution_count": 16,
     "metadata": {},
     "output_type": "execute_result"
    }
   ],
   "source": [
    "persona1.nombre"
   ]
  },
  {
   "cell_type": "code",
   "execution_count": 17,
   "metadata": {},
   "outputs": [
    {
     "data": {
      "text/plain": [
       "25"
      ]
     },
     "execution_count": 17,
     "metadata": {},
     "output_type": "execute_result"
    }
   ],
   "source": [
    "persona1.edad"
   ]
  },
  {
   "cell_type": "markdown",
   "metadata": {},
   "source": [
    "2. Crea una clase Empleado que herede de Persona y añada el atributo salario.\n"
   ]
  },
  {
   "cell_type": "code",
   "execution_count": 18,
   "metadata": {},
   "outputs": [
    {
     "name": "stdout",
     "output_type": "stream",
     "text": [
      "Nombre: Juan, Edad: 25, Salario: 30000\n"
     ]
    }
   ],
   "source": [
    "\n",
    "class Empleado(Persona):\n",
    "    def __init__(self, nombre, edad, salario):\n",
    "        super().__init__(nombre, edad)\n",
    "        self.salario = salario\n",
    "\n",
    "    def __str__(self):\n",
    "        return super().__str__() + f\", Salario: {self.salario}\"\n",
    "\n",
    "\n",
    "emp1 = Empleado(\"Juan\", 25, 30000)\n",
    "print(emp1)\n"
   ]
  },
  {
   "cell_type": "markdown",
   "metadata": {},
   "source": [
    "## 3. Relaciones Entre Objetos"
   ]
  },
  {
   "cell_type": "markdown",
   "metadata": {},
   "source": [
    "Recordemos que las clases crean objetos cuyo fin es interactuar con otros objetos del mundo real.\n"
   ]
  },
  {
   "cell_type": "markdown",
   "metadata": {},
   "source": [
    "### 3.1 Ejemplo1: Catálogo de Peliculas\n",
    "\n",
    "\n",
    "Dado un sistema de Peliculas Streaming como Netflix, deberemos construir un catálogo de películas que permita:\n",
    "- Agregar peliculas al catálogo\n",
    "- Eliminar películas del catálogo\n",
    "- Mostrar las películas del catálogo\n",
    "- Buscar una película dentro del catálogo"
   ]
  },
  {
   "cell_type": "code",
   "execution_count": 19,
   "metadata": {},
   "outputs": [],
   "source": [
    "# Creación de una clase Pelicula\n",
    "class Pelicula:\n",
    "    # Constructor de clase\n",
    "    def __init__(self, titulo, duracion, lanzamiento):\n",
    "        self.titulo = titulo\n",
    "        self.duracion = duracion\n",
    "        self.lanzamiento = lanzamiento\n",
    "        print('Se ha creado la película:', self.titulo)\n",
    "\n",
    "    def __str__(self):\n",
    "        return '{} ({})'.format(self.titulo, self.lanzamiento)"
   ]
  },
  {
   "cell_type": "code",
   "execution_count": 20,
   "metadata": {},
   "outputs": [],
   "source": [
    "# Creación de la Clase Catalogo de Peliculas\n",
    "class CatalogoPeliculas:\n",
    "\n",
    "    peliculas = []  # Esta lista contendrá objetos de la clase Pelicula\n",
    "\n",
    "    # Constructor de clase, recibe una lista de objetos Pelicula\n",
    "    def __init__(self, peliculas=[]):\n",
    "        self.peliculas = peliculas\n",
    "\n",
    "    # Métodos de catalogo\n",
    "    def agregar(self, p):  # p será un objeto Pelicula\n",
    "        \"\"\"Método para agregar una película a la lista\"\"\"\n",
    "        self.peliculas.append(p)\n",
    "\n",
    "    def mostrar(self):\n",
    "        \"\"\"Método para mostrar las películas dentro catálogo\"\"\"\n",
    "        for p in self.peliculas:\n",
    "            print(p)  # Print toma por defecto str(p)\n",
    "\n",
    "    def buscar_pelicula(self, titulo_pelicula):\n",
    "        \"\"\"Método para buscar una película por título\"\"\"\n",
    "        for pelicula in self.peliculas:\n",
    "            if pelicula.titulo== titulo_pelicula:\n",
    "                break\n",
    "        return pelicula\n",
    "\n",
    "    def eliminar_pelicula(self, titulo_pelicula:str):\n",
    "        \"\"\"Método para eliminar una película por título\"\"\"\n",
    "        pelicula = self.buscar_pelicula(titulo_pelicula)\n",
    "        if pelicula:\n",
    "            nombre_pelicula = pelicula.titulo\n",
    "            self.peliculas.remove(pelicula)\n",
    "            print(f'Se elimino pelicula \"{nombre_pelicula}\" del listado')\n",
    "        pass"
   ]
  },
  {
   "cell_type": "markdown",
   "metadata": {},
   "source": [
    "- Creamos el Catalogo de Películas para Netflix"
   ]
  },
  {
   "cell_type": "code",
   "execution_count": 21,
   "metadata": {},
   "outputs": [
    {
     "name": "stdout",
     "output_type": "stream",
     "text": [
      "Se ha creado la película: El Padrino\n",
      "El Padrino (1972)\n"
     ]
    }
   ],
   "source": [
    "p = Pelicula(\"El Padrino\", 175, 1972)\n",
    "\n",
    "# Creo un catálogo de películas\n",
    "catalogo_netflix = CatalogoPeliculas([p])  # Añado una lista con una película desde el principio\n",
    "\n",
    "# mostrando el catalogo de peliculas actual\n",
    "catalogo_netflix.mostrar()"
   ]
  },
  {
   "cell_type": "code",
   "execution_count": 22,
   "metadata": {},
   "outputs": [
    {
     "name": "stdout",
     "output_type": "stream",
     "text": [
      "Se ha creado la película: El Padrino: Parte 2\n",
      "Se ha creado la película: El Padrino: Parte 3\n",
      "Se ha creado la película: Harry Pother\n",
      "El Padrino (1972)\n",
      "El Padrino: Parte 2 (1974)\n",
      "El Padrino: Parte 3 (1980)\n",
      "Harry Pother (2001)\n"
     ]
    }
   ],
   "source": [
    "# Agregamos más películas al catalogo\n",
    "catalogo_netflix.agregar(Pelicula(\"El Padrino: Parte 2\", 202, 1974))\n",
    "catalogo_netflix.agregar(Pelicula(\"El Padrino: Parte 3\", 200, 1980))\n",
    "catalogo_netflix.agregar(Pelicula(\"Harry Pother\", 200, 2001))  # Añadimos otra\n",
    "\n",
    "# Mostramos el catalogo de películas actualizado\n",
    "catalogo_netflix.mostrar()"
   ]
  },
  {
   "cell_type": "code",
   "execution_count": 23,
   "metadata": {},
   "outputs": [
    {
     "name": "stdout",
     "output_type": "stream",
     "text": [
      "Se elimino pelicula \"Harry Pother\" del listado\n"
     ]
    }
   ],
   "source": [
    "# Eliminamos una película del catalogo\n",
    "catalogo_netflix.eliminar_pelicula('Harry Pother')"
   ]
  },
  {
   "cell_type": "code",
   "execution_count": 24,
   "metadata": {},
   "outputs": [
    {
     "name": "stdout",
     "output_type": "stream",
     "text": [
      "El Padrino (1972)\n",
      "El Padrino: Parte 2 (1974)\n",
      "El Padrino: Parte 3 (1980)\n"
     ]
    }
   ],
   "source": [
    "catalogo_netflix.mostrar()"
   ]
  },
  {
   "cell_type": "markdown",
   "metadata": {},
   "source": [
    "- Amazon Prime desea realizar un catálogo de peliculas"
   ]
  },
  {
   "cell_type": "code",
   "execution_count": 25,
   "metadata": {},
   "outputs": [
    {
     "name": "stdout",
     "output_type": "stream",
     "text": [
      "Se ha creado la película: El señor de los Anillos\n",
      "Se ha creado la película: El señor de los Anillos: Las 2 Torres\n",
      "Se ha creado la película: El señor de los Anillos:El retorno del Rey\n",
      "El señor de los Anillos (2001)\n",
      "El señor de los Anillos: Las 2 Torres (2003)\n",
      "El señor de los Anillos:El retorno del Rey (2005)\n"
     ]
    }
   ],
   "source": [
    "peliculas = [Pelicula(\"El señor de los Anillos\", 175, 2001), \n",
    "             Pelicula(\"El señor de los Anillos: Las 2 Torres\", 202, 2003), \n",
    "             Pelicula(\"El señor de los Anillos:El retorno del Rey\", 200, 2005)]\n",
    "\n",
    "catalogo_amazon = CatalogoPeliculas(peliculas=peliculas)\n",
    "\n",
    "catalogo_amazon.mostrar()"
   ]
  },
  {
   "cell_type": "markdown",
   "metadata": {},
   "source": [
    "### 3.2 Ejercicio:  Sistema de Gestión Escolar"
   ]
  },
  {
   "cell_type": "markdown",
   "metadata": {},
   "source": [
    "**Descripción del Proyecto:**\n",
    "\n",
    "Desarrollar un sistema de gestión escolar que incluya clases para Estudiantes, Profesores, y Cursos.\n",
    "\n",
    "\n",
    "**Estructura del Proyecto:**\n",
    "\n",
    "- **Clase Persona**\n",
    "\n",
    "    - Atributos: nombre, edad\n",
    "    - Métodos: __init__\n",
    "\n",
    "- **Subclase Estudiante**\n",
    "    - Atributos: cursos\n",
    "    - Métodos: __init__, agregar_curso\n",
    "    \n",
    "- **Subclase Profesor**\n",
    "    \n",
    "    - Atributos: materias\n",
    "    - Métodos: __init__, agregar_materia\n",
    "    \n",
    "- **Clase Curso**\n",
    "\n",
    "    - Atributos: nombre, profesor, estudiantes\n",
    "    - Métodos: __init__, agregar_estudiante"
   ]
  },
  {
   "cell_type": "code",
   "execution_count": 35,
   "metadata": {},
   "outputs": [],
   "source": [
    "class Persona:\n",
    "    def __init__(self, nombre, edad):\n",
    "        self.nombre = nombre\n",
    "        self.edad = edad\n",
    "\n",
    "    def __str__(self):\n",
    "        return f\"Nombre: {self.nombre}, Edad: {self.edad}\"\n",
    "    \n",
    "class Estudiante(Persona):\n",
    "    def __init__(self, nombre, edad):\n",
    "        super().__init__(nombre, edad)\n",
    "        self.cursos = []\n",
    "    \n",
    "    def agregar_curso(self, curso):\n",
    "        self.cursos.append(curso)\n",
    "        \n",
    "    def __str__(self):\n",
    "        return f'Soy el estudiante {self.nombre}, tengo {self.edad} años y curso {self.cursos}'\n",
    "    \n",
    "class Profesor(Persona):\n",
    "    def __init__(self, nombre, edad):\n",
    "        super().__init__(nombre, edad)\n",
    "        self.cursos = []\n",
    "    \n",
    "    def agregar_materia(self, curso):\n",
    "        self.cursos.append(curso)\n",
    "        \n",
    "    def __str__(self):\n",
    "        return f'Soy el profesor {self.nombre}, tengo {self.edad} años y dicto los cursos {self.cursos}'\n",
    "    \n",
    "class Curso:\n",
    "    def __init__(self, nombre_curso, profesor, estudiantes=list()):\n",
    "        self.nombre = nombre_curso\n",
    "        self.profesor = profesor\n",
    "        self.estudiantes = estudiantes\n",
    "\n",
    "        # si agrego un conjunto de estudiantes, les asigno el curso\n",
    "        for estudiante in estudiantes:\n",
    "            estudiante.agregar_curso(self.nombre)\n",
    "\n",
    "        # añado al profesor como profesor del curso\n",
    "        self.profesor.agregar_materia(self.nombre)\n",
    "    \n",
    "    def agregar_estudiante(self, estudiante):\n",
    "        self.estudiantes.append(estudiante)\n",
    "        estudiante.agregar_curso(self.nombre)\n",
    "    \n",
    "    def __str__(self):\n",
    "        lista_nombre_estudiantes = [estudiante.nombre for estudiante in self.estudiantes]\n",
    "        return f'Curso: {self.nombre}, Profesor: {self.profesor.nombre}, Estudiantes: {lista_nombre_estudiantes}'"
   ]
  },
  {
   "cell_type": "code",
   "execution_count": 36,
   "metadata": {},
   "outputs": [],
   "source": [
    "# Estudiantes\n",
    "alumno1 = Estudiante(\"Juan\", 25)\n",
    "alumno2 = Estudiante(\"Maria\", 20)\n",
    "alumno3 = Estudiante(\"Pedro\", 30)\n",
    "\n",
    "# crea un profesor\n",
    "profesor1 = Profesor(\"Gonzalo\", 35)\n",
    "profesor2 = Profesor(\"Lara\", 40)\n",
    "\n",
    "# crea un curso\n",
    "curso1 = Curso(\"Python\", profesor1, [alumno1, alumno2, alumno3])\n",
    "curso2 = Curso(\"Java\", profesor2, [alumno1, alumno2])"
   ]
  },
  {
   "cell_type": "code",
   "execution_count": 37,
   "metadata": {},
   "outputs": [
    {
     "name": "stdout",
     "output_type": "stream",
     "text": [
      "Soy el profesor Gonzalo, tengo 35 años y dicto los cursos ['Python']\n"
     ]
    }
   ],
   "source": [
    "print(profesor1)"
   ]
  },
  {
   "cell_type": "code",
   "execution_count": 38,
   "metadata": {},
   "outputs": [
    {
     "name": "stdout",
     "output_type": "stream",
     "text": [
      "Soy el profesor Lara, tengo 40 años y dicto los cursos ['Java']\n"
     ]
    }
   ],
   "source": [
    "print(profesor2)"
   ]
  },
  {
   "cell_type": "code",
   "execution_count": 40,
   "metadata": {},
   "outputs": [
    {
     "name": "stdout",
     "output_type": "stream",
     "text": [
      "Soy el estudiante Juan, tengo 25 años y curso ['Python', 'Java']\n"
     ]
    }
   ],
   "source": [
    "print(alumno1)"
   ]
  },
  {
   "cell_type": "code",
   "execution_count": 41,
   "metadata": {},
   "outputs": [
    {
     "name": "stdout",
     "output_type": "stream",
     "text": [
      "Soy el estudiante Maria, tengo 20 años y curso ['Python', 'Java']\n"
     ]
    }
   ],
   "source": [
    "print(alumno2)"
   ]
  },
  {
   "cell_type": "code",
   "execution_count": 42,
   "metadata": {},
   "outputs": [
    {
     "name": "stdout",
     "output_type": "stream",
     "text": [
      "Soy el estudiante Pedro, tengo 30 años y curso ['Python']\n"
     ]
    }
   ],
   "source": [
    "print(alumno3)"
   ]
  },
  {
   "cell_type": "code",
   "execution_count": 43,
   "metadata": {},
   "outputs": [
    {
     "name": "stdout",
     "output_type": "stream",
     "text": [
      "Curso: Python, Profesor: Gonzalo, Estudiantes: ['Juan', 'Maria', 'Pedro']\n"
     ]
    }
   ],
   "source": [
    "print(curso1)"
   ]
  },
  {
   "cell_type": "code",
   "execution_count": 44,
   "metadata": {},
   "outputs": [
    {
     "name": "stdout",
     "output_type": "stream",
     "text": [
      "Curso: Java, Profesor: Lara, Estudiantes: ['Juan', 'Maria']\n"
     ]
    }
   ],
   "source": [
    "print(curso2)"
   ]
  }
 ],
 "metadata": {
  "kernelspec": {
   "display_name": "Python 3 (ipykernel)",
   "language": "python",
   "name": "python3"
  },
  "language_info": {
   "codemirror_mode": {
    "name": "ipython",
    "version": 3
   },
   "file_extension": ".py",
   "mimetype": "text/x-python",
   "name": "python",
   "nbconvert_exporter": "python",
   "pygments_lexer": "ipython3",
   "version": "3.12.1"
  }
 },
 "nbformat": 4,
 "nbformat_minor": 4
}
