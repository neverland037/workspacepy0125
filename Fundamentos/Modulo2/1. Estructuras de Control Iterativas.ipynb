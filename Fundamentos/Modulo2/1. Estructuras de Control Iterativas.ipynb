{
 "cells": [
  {
   "cell_type": "markdown",
   "metadata": {},
   "source": [
    "# Estructuras de Control Iterativas"
   ]
  },
  {
   "cell_type": "markdown",
   "metadata": {},
   "source": [
    "A diferencia de las estructuras de control condicionales, las iterativas (también llamadas cíclicas o bucles), nos permiten ejecutar un mismo código, de manera repetida, mientras se cumpla una condición. En Python se dispone de dos estructuras cíclicas: \n",
    "- El bucle while \n",
    "- El bucle for \n",
    "\n",
    "Las veremos en detalle a continuación. "
   ]
  },
  {
   "cell_type": "markdown",
   "metadata": {
    "tags": []
   },
   "source": [
    "## Bucle While\n",
    "------------------------------"
   ]
  },
  {
   "cell_type": "markdown",
   "metadata": {},
   "source": [
    "Se basa en <b>repetir un bloque a partir de evaluar una condición lógica, siempre que ésta sea True</b>. Queda en las manos del programador decidir el momento en que la condición cambie a False para hacer que el While finalice."
   ]
  },
  {
   "cell_type": "markdown",
   "metadata": {},
   "source": [
    "```python\n",
    "while <expr>:\n",
    "    <statement(s)>"
   ]
  },
  {
   "cell_type": "markdown",
   "metadata": {},
   "source": [
    "### Ejemplo\n",
    "\n",
    "Mientras que año sea menor o igual a 2012, imprimir la frase “Informes del Año año”\n",
    "\n",
    "\n",
    " - para el año 2010 realizamos una salida forzada del bucle\n",
    "\n",
    " - si el año es 2005 o 2006, no imprimas ese informe"
   ]
  },
  {
   "cell_type": "code",
   "execution_count": 8,
   "metadata": {
    "metadata": {}
   },
   "outputs": [
    {
     "name": "stdout",
     "output_type": "stream",
     "text": [
      "Informes del año 2001\n",
      "Informes del año 2002\n",
      "Informes del año 2003\n",
      "Informes del año 2004\n",
      "Informes del año 2007\n",
      "Informes del año 2008\n",
      "Informes del año 2009\n",
      "Informes del año 2010\n",
      "Salida del bucle, año 2010\n",
      "FInalizando el programa\n"
     ]
    }
   ],
   "source": [
    "anio = 2001\n",
    "while anio <= 2012:\n",
    "\n",
    "    if anio in [2005, 2006]:\n",
    "        anio += 1\n",
    "        continue # se salta el resto del código y vuelve al inicio del bucle\n",
    "\n",
    "    print(f'Informes del año {anio}')\n",
    "\n",
    "    if anio ==2010:\n",
    "        print('Salida del bucle, año 2010')\n",
    "        break\n",
    "\n",
    "    anio += 1 # aumentamos contador\n",
    "    pass # pass es un comando que no hace nada\n",
    "\n",
    "print('FInalizando el programa')"
   ]
  },
  {
   "cell_type": "code",
   "execution_count": 10,
   "metadata": {},
   "outputs": [
    {
     "name": "stdout",
     "output_type": "stream",
     "text": [
      "Informes del año 2001\n",
      "Informes del año 2002\n",
      "Informes del año 2003\n",
      "Informes del año 2004\n",
      "Informes del año 2007\n",
      "Informes del año 2008\n",
      "Informes del año 2009\n",
      "Informes del año 2010\n",
      "Salida del bucle, año 2010\n",
      "FInalizando el programa\n"
     ]
    }
   ],
   "source": [
    "anio = 2001\n",
    "while anio <= 2012:\n",
    "\n",
    "    if anio in [2005, 2006]:\n",
    "        pass # pass simulara mi continue\n",
    "    else:\n",
    "        print(f'Informes del año {anio}')\n",
    "\n",
    "    if anio ==2010:\n",
    "        print('Salida del bucle, año 2010')\n",
    "        break\n",
    "\n",
    "    anio += 1 # aumentamos contador\n",
    "    pass # pass es un comando que no hace nada\n",
    "\n",
    "print('FInalizando el programa')"
   ]
  },
  {
   "cell_type": "markdown",
   "metadata": {},
   "source": [
    "Si miras la última línea:\n",
    "\n",
    "<code>anio += 1</code>\n",
    "\n",
    "Podrás notar que en cada iteración, incrementamos el valor de la variable que condiciona el bucle (anio). Si no lo hiciéramos, esta variable siempre sería igual a 2001 y el bucle se ejecutaría de forma infinita, ya que la condición (anio <= 2012) siempre se estaría cumpliendo. "
   ]
  },
  {
   "cell_type": "markdown",
   "metadata": {},
   "source": [
    "### - Instruccion <b>break</b>"
   ]
  },
  {
   "cell_type": "markdown",
   "metadata": {},
   "source": [
    "La declaración de <code>break</code> finaliza inmediatamente un bucle por completo. \n",
    "\n",
    "\n",
    "La ejecución del programa procede a la primera instrucción que sigue al cuerpo del ciclo."
   ]
  },
  {
   "cell_type": "code",
   "execution_count": null,
   "metadata": {
    "metadata": {}
   },
   "outputs": [],
   "source": [
    "c = 0\n",
    "while c <= 5:\n",
    "    print(\"c vale \",c)\n",
    "    if c == 4:\n",
    "        print(\"Rompemos el bucle cuando c vale \", c)\n",
    "        break\n",
    "    c+=1\n",
    "    pass # fin bucle while\n"
   ]
  },
  {
   "cell_type": "markdown",
   "metadata": {},
   "source": [
    "### - Instruccion <b>continue</b>"
   ]
  },
  {
   "cell_type": "markdown",
   "metadata": {},
   "source": [
    "La declaración <code>continue</code> finaliza inmediatamente la iteración del bucle actual. \n",
    "\n",
    "La ejecución salta a la parte superior del bucle y la expresión de control se vuelve a evaluar para determinar si el bucle se ejecutará de nuevo o terminará.\n"
   ]
  },
  {
   "cell_type": "code",
   "execution_count": null,
   "metadata": {},
   "outputs": [],
   "source": [
    "c = 0\n",
    "while c <= 5:\n",
    "    c+=1\n",
    "    if c==3 or c==4:\n",
    "        print(\"Continuamos con la siguiente iteración\", c)\n",
    "        continue\n",
    "    print(\"c vale\",c)"
   ]
  },
  {
   "cell_type": "markdown",
   "metadata": {},
   "source": [
    "Podemos tomar la siguiente imagen como referencia para saber como actua las instrucciones break y continue\n",
    "\n",
    "<img src='https://files.realpython.com/media/t.899f357dd948.png' width=300 >"
   ]
  },
  {
   "cell_type": "markdown",
   "metadata": {},
   "source": [
    "### Ejemplo Menú Interactivo"
   ]
  },
  {
   "cell_type": "code",
   "execution_count": 11,
   "metadata": {},
   "outputs": [
    {
     "name": "stdout",
     "output_type": "stream",
     "text": [
      "Bienvenido al menú interactivo\n",
      "¿Qué quieres hacer? Escribe una opción\n",
      "    1) Saludar\n",
      "    2) Sumar dos números\n",
      "    3) Salir\n",
      "Hola, espero que te lo estés pasando bien\n",
      "¿Qué quieres hacer? Escribe una opción\n",
      "    1) Saludar\n",
      "    2) Sumar dos números\n",
      "    3) Salir\n",
      "El resultado de la suma es: 24.0\n",
      "¿Qué quieres hacer? Escribe una opción\n",
      "    1) Saludar\n",
      "    2) Sumar dos números\n",
      "    3) Salir\n",
      "Comando desconocido, vuelve a intentarlo\n",
      "¿Qué quieres hacer? Escribe una opción\n",
      "    1) Saludar\n",
      "    2) Sumar dos números\n",
      "    3) Salir\n",
      "¡Hasta luego! Ha sido un placer ayudarte\n"
     ]
    }
   ],
   "source": [
    "print(\"Bienvenido al menú interactivo\")\n",
    "while True:\n",
    "    print(\"\"\"¿Qué quieres hacer? Escribe una opción\n",
    "    1) Saludar\n",
    "    2) Sumar dos números\n",
    "    3) Salir\"\"\")\n",
    "    \n",
    "    opcion = input() # me devuelve un string ''\n",
    "    if opcion == '1':\n",
    "        print(\"Hola, espero que te lo estés pasando bien\")\n",
    "    elif opcion == '2':\n",
    "        n1 = float(input(\"Introduce el primer número: \"))\n",
    "        n2 = float(input(\"Introduce el segundo número: \"))\n",
    "        print(f\"El resultado de la suma es: {n1+n2}\")\n",
    "    elif opcion =='3':\n",
    "        print(\"¡Hasta luego! Ha sido un placer ayudarte\")\n",
    "        break\n",
    "    else:\n",
    "        print(\"Comando desconocido, vuelve a intentarlo\")"
   ]
  },
  {
   "cell_type": "markdown",
   "metadata": {},
   "source": [
    "### EJERCICIOS"
   ]
  },
  {
   "cell_type": "markdown",
   "metadata": {},
   "source": [
    "1. Tenemos la pantalla del móvil bloqueada. Partiendo de un PIN_SECRETO, intentaremos desbloquear la pantalla. Tenemos hasta 3 intentos. Simula el proceso con Python. En caso de acceder, lanza al usuario 'login correcto'. Sino, 'llamando al policía'.\n",
    "\n"
   ]
  },
  {
   "cell_type": "code",
   "execution_count": 14,
   "metadata": {},
   "outputs": [
    {
     "name": "stdout",
     "output_type": "stream",
     "text": [
      "Contraseña incorrecta, le quedan 2 intentos\n",
      "Contraseña correcta\n"
     ]
    }
   ],
   "source": [
    "PIN_SECRETO = '1234'\n",
    "\n",
    "intento = 0\n",
    "\n",
    "while intento < 3:\n",
    "\n",
    "    # retomo el valor de la variable clave\n",
    "    clave = input('Introdusca la contraseña:')\n",
    "\n",
    "    # comparo la clave con el pin secreto\n",
    "    if clave == PIN_SECRETO:\n",
    "        print('Contraseña correcta')\n",
    "        break # salgo del bucle\n",
    "    \n",
    "    print(f'Contraseña incorrecta, le quedan {3 - intento - 1} intentos')\n",
    "    intento += 1\n",
    "\n",
    "if intento == 3:\n",
    "    print('Has agotado los 3 intentos, adios, llamando a la policia')\n"
   ]
  },
  {
   "cell_type": "markdown",
   "metadata": {},
   "source": [
    "2. \n",
    "\n",
    "Vamos a diseñar una calculadora que se enciende y hasta que no tecleamos 'SAL' no se apaga.\n",
    "\n",
    "Esta calculadora funciona de la siguiente manera:\n",
    "\n",
    "Recogemos los datos A y B\n",
    "\n",
    "- Si operación es 1 calcula la raíz cuadrada de la suma de A y B\n",
    "- Si operación es 2 calcula A / B. Vigilamos que B no sea 0...\n",
    "- Si la operación es 3 calculamos la siguiente fórmula: ( A * B ) / 2.5"
   ]
  },
  {
   "cell_type": "code",
   "execution_count": 15,
   "metadata": {
    "metadata": {}
   },
   "outputs": [
    {
     "name": "stdout",
     "output_type": "stream",
     "text": [
      "Bienvenido al sistema\n",
      "\n",
      "Elige una de las siguientes opciones:\n",
      "\n",
      "1) Calcular la raiz cuadrada de A+B\n",
      "2) Calcular A/B\n",
      "3) Calcular: (A*B)/2.5\n",
      "\n",
      "Para salir escribe 'SAL'\n",
      "\n",
      "La raiz cuadrada de A+B es: 5.0\n",
      "\n",
      "Elige una de las siguientes opciones:\n",
      "\n",
      "1) Calcular la raiz cuadrada de A+B\n",
      "2) Calcular A/B\n",
      "3) Calcular: (A*B)/2.5\n",
      "\n",
      "Para salir escribe 'SAL'\n",
      "\n",
      "La raiz cuadrada de A+B es: 5.0\n",
      "\n",
      "Elige una de las siguientes opciones:\n",
      "\n",
      "1) Calcular la raiz cuadrada de A+B\n",
      "2) Calcular A/B\n",
      "3) Calcular: (A*B)/2.5\n",
      "\n",
      "Para salir escribe 'SAL'\n",
      "\n",
      "Saliendo del sistema\n",
      "Gracias por usar el sistema\n"
     ]
    }
   ],
   "source": [
    "import math\n",
    "\n",
    "CLAVE = 'SAL'\n",
    "\n",
    "MENSAJE = 'Bienvenido al sistema'\n",
    "\n",
    "OPCIONES = \"\"\"\n",
    "Elige una de las siguientes opciones:\n",
    "\n",
    "1) Calcular la raiz cuadrada de A+B\n",
    "2) Calcular A/B\n",
    "3) Calcular: (A*B)/2.5\n",
    "\n",
    "Para salir escribe 'SAL'\n",
    "\"\"\"\n",
    "\n",
    "print(MENSAJE)\n",
    "\n",
    "while True:\n",
    "\n",
    "    print(OPCIONES)\n",
    "    respuesta = input('Introduce una opcion: ')\n",
    "\n",
    "    if respuesta == CLAVE:\n",
    "        print('Saliendo del sistema')\n",
    "        break # salgo del bucle\n",
    "    elif respuesta == '1':\n",
    "        a = float(input('Introduce el valor de A: '))\n",
    "        b = float(input('Introduce el valor de B: '))\n",
    "\n",
    "        calculo = math.sqrt(a+b)  #(a+b)**0.5\n",
    "        print(f'La raiz cuadrada de A+B es: {calculo}')\n",
    "    elif respuesta == '2':\n",
    "        a = float(input('Introduce el valor de A: '))\n",
    "        b = float(input('Introduce el valor de B: '))\n",
    "\n",
    "        if b == 0:\n",
    "            print('No se puede dividir entre 0')\n",
    "            continue # salto al inicio del bucle\n",
    "        calculo = a/b\n",
    "        print(f'La division de A/B es: {calculo}')\n",
    "    elif respuesta == '3':\n",
    "        a = float(input('Introduce el valor de A: '))\n",
    "        b = float(input('Introduce el valor de B: '))\n",
    "\n",
    "        calculo = (a*b)/2.5\n",
    "        print(f'El resultado de (A*B)/2.5 es: {calculo}')\n",
    "    else:\n",
    "        print('Opcion no valida, vuelva a ingresar una opcion')\n",
    "    pass\n",
    "\n",
    "print('Gracias por usar el sistema')"
   ]
  },
  {
   "cell_type": "markdown",
   "metadata": {},
   "source": [
    "1. Recorra mediante un bucle los números del 1 al 45, luego realice lo siguiente:\n",
    "\n",
    "- Para los números múltiplos de 3 -> “Hola somos los múltiplos de 3”, x\n",
    "- Para los números múltiplos de 5 -> “Hola, somos los múltiplos de 5”, x\n",
    "- Para los números múltiplos de 3 y 5 -> “Hola, somos los múltiplos de 3 y 5”, x"
   ]
  },
  {
   "cell_type": "markdown",
   "metadata": {},
   "source": [
    "2. Escriba un programa que solicite una contraseña (el texto de la contraseña no es importante) y la vuelva a solicitar hasta que las dos contraseñas coincidan.\n",
    "\n"
   ]
  },
  {
   "cell_type": "markdown",
   "metadata": {},
   "source": [
    "3. Realiza un programa que lea dos números por teclado y permita elegir entre 3 opciones en un menú:\n",
    "\n",
    "- Mostrar una suma de los dos números\n",
    "- Mostrar una resta de los dos números (el primero menos el segundo)\n",
    "- Mostrar una multiplicación de los dos números\n",
    "\n",
    "En caso de introducir una opción inválida, el programa informará de que no es correcta"
   ]
  },
  {
   "cell_type": "markdown",
   "metadata": {
    "tags": []
   },
   "source": [
    "## Bucle For\n",
    "----------------------------------------------"
   ]
  },
  {
   "cell_type": "markdown",
   "metadata": {},
   "source": [
    "El bucle <code>for</code>, en Python, es aquel que nos permitirá iterar una colección de datos (listas, tuplas, dicx, etc):"
   ]
  },
  {
   "cell_type": "code",
   "execution_count": 17,
   "metadata": {},
   "outputs": [
    {
     "name": "stdout",
     "output_type": "stream",
     "text": [
      "hola\n",
      "hola\n",
      "hola\n",
      "hola\n",
      "hola\n"
     ]
    }
   ],
   "source": [
    "\n",
    "for _ in range(5):\n",
    "    print('hola')\n"
   ]
  },
  {
   "cell_type": "markdown",
   "metadata": {},
   "source": [
    "```python\n",
    "for <var> in <iterable>:\n",
    "    <statement(s)>"
   ]
  },
  {
   "cell_type": "code",
   "execution_count": 18,
   "metadata": {},
   "outputs": [
    {
     "name": "stdout",
     "output_type": "stream",
     "text": [
      "Juan\n",
      "Antonio\n",
      "Pedro\n",
      "Herminio\n"
     ]
    }
   ],
   "source": [
    "# Iterando sobre listas\n",
    "lista_nombres = ['Juan', 'Antonio', 'Pedro', 'Herminio']\n",
    "\n",
    "for nombre in lista_nombres:\n",
    "    print(nombre)"
   ]
  },
  {
   "cell_type": "code",
   "execution_count": 19,
   "metadata": {},
   "outputs": [
    {
     "data": {
      "text/plain": [
       "[(0, 'Juan'), (1, 'Antonio'), (2, 'Pedro'), (3, 'Herminio')]"
      ]
     },
     "execution_count": 19,
     "metadata": {},
     "output_type": "execute_result"
    }
   ],
   "source": [
    "[*enumerate(lista_nombres)]"
   ]
  },
  {
   "cell_type": "code",
   "execution_count": 20,
   "metadata": {},
   "outputs": [
    {
     "name": "stdout",
     "output_type": "stream",
     "text": [
      "0 Juan\n",
      "1 Antonio\n",
      "2 Pedro\n",
      "3 Herminio\n"
     ]
    }
   ],
   "source": [
    "# enumerate -> brinda el indice y el valor del iterable\n",
    "for i, nombre in enumerate(lista_nombres):\n",
    "    print(i, nombre)"
   ]
  },
  {
   "cell_type": "code",
   "execution_count": 21,
   "metadata": {},
   "outputs": [
    {
     "name": "stdout",
     "output_type": "stream",
     "text": [
      "['Maria', 'Antonio', 'Pedro', 'Herminio', 'Maria']\n"
     ]
    }
   ],
   "source": [
    "# Modificando valores sobre listas\n",
    "mi_lista = ['Juan', 'Antonio', 'Pedro', 'Herminio','Juan']\n",
    "\n",
    "for indice,nombre in enumerate(mi_lista):\n",
    "    # print(indice, nombre)\n",
    "    if nombre == 'Juan':\n",
    "        mi_lista[indice] = 'Maria'\n",
    "\n",
    "print(mi_lista)"
   ]
  },
  {
   "cell_type": "code",
   "execution_count": 22,
   "metadata": {},
   "outputs": [
    {
     "data": {
      "text/plain": [
       "['Maria', 'Antonio', 'Pedro', 'Herminio', 'Maria']"
      ]
     },
     "execution_count": 22,
     "metadata": {},
     "output_type": "execute_result"
    }
   ],
   "source": [
    "# valor cambiado\n",
    "mi_lista"
   ]
  },
  {
   "cell_type": "code",
   "execution_count": 23,
   "metadata": {},
   "outputs": [
    {
     "name": "stdout",
     "output_type": "stream",
     "text": [
      "k = foo , v = 1\n",
      "k = bar , v = 2\n",
      "k = baz , v = 3\n"
     ]
    }
   ],
   "source": [
    "# iterando sobre diccionarios\n",
    "d = {'foo': 1, 'bar': 2, 'baz': 3}\n",
    "for k, v in d.items():\n",
    "    print('k =', k, ', v =', v)"
   ]
  },
  {
   "cell_type": "code",
   "execution_count": 24,
   "metadata": {},
   "outputs": [
    {
     "name": "stdout",
     "output_type": "stream",
     "text": [
      "0 H\n",
      "1 o\n",
      "2 l\n",
      "3 a\n",
      "4  \n",
      "5 M\n",
      "6 u\n",
      "7 n\n",
      "8 d\n",
      "9 o\n"
     ]
    }
   ],
   "source": [
    "# Iterando sobre strings\n",
    "texto = 'Hola Mundo'\n",
    "\n",
    "for i, letra in enumerate(texto):\n",
    "    print(i, letra)"
   ]
  },
  {
   "cell_type": "code",
   "execution_count": 25,
   "metadata": {},
   "outputs": [
    {
     "ename": "TypeError",
     "evalue": "'str' object does not support item assignment",
     "output_type": "error",
     "traceback": [
      "\u001b[0;31m---------------------------------------------------------------------------\u001b[0m",
      "\u001b[0;31mTypeError\u001b[0m                                 Traceback (most recent call last)",
      "Cell \u001b[0;32mIn[25], line 1\u001b[0m\n\u001b[0;32m----> 1\u001b[0m \u001b[43mtexto\u001b[49m\u001b[43m[\u001b[49m\u001b[38;5;241;43m1\u001b[39;49m\u001b[43m]\u001b[49m \u001b[38;5;241m=\u001b[39m \u001b[38;5;124m'\u001b[39m\u001b[38;5;124mx\u001b[39m\u001b[38;5;124m'\u001b[39m\n",
      "\u001b[0;31mTypeError\u001b[0m: 'str' object does not support item assignment"
     ]
    }
   ],
   "source": [
    "texto[1] = 'x'"
   ]
  },
  {
   "cell_type": "code",
   "execution_count": 27,
   "metadata": {},
   "outputs": [
    {
     "name": "stdout",
     "output_type": "stream",
     "text": [
      "H\n",
      "o\n",
      "l\n",
      "a\n",
      " \n",
      "M\n",
      "u\n",
      "n\n",
      "d\n",
      "o\n"
     ]
    },
    {
     "data": {
      "text/plain": [
       "'Hxla Mundx'"
      ]
     },
     "execution_count": 27,
     "metadata": {},
     "output_type": "execute_result"
    }
   ],
   "source": [
    "# sustituir las 'o' por las 'x'\n",
    "texto = 'Hola Mundo'\n",
    "\n",
    "texto_s = ''\n",
    "for letra in texto:\n",
    "    print(letra)\n",
    "    if letra == 'o':\n",
    "        texto_s += 'x'\n",
    "        continue\n",
    "    texto_s += letra\n",
    "    \n",
    "texto_s"
   ]
  },
  {
   "cell_type": "code",
   "execution_count": 28,
   "metadata": {},
   "outputs": [
    {
     "data": {
      "text/plain": [
       "'Hx'"
      ]
     },
     "execution_count": 28,
     "metadata": {},
     "output_type": "execute_result"
    }
   ],
   "source": [
    "''+'H'+'x'"
   ]
  },
  {
   "cell_type": "code",
   "execution_count": null,
   "metadata": {},
   "outputs": [],
   "source": [
    "texto_s = ''\n",
    "for l in texto:\n",
    "    texto_s += l\n",
    "    print(texto_s)\n",
    "texto_s"
   ]
  },
  {
   "cell_type": "markdown",
   "metadata": {},
   "source": [
    "### Funcion Range"
   ]
  },
  {
   "cell_type": "markdown",
   "metadata": {},
   "source": [
    "Sirve para generar una lista de números que podemos recorrer fácilmente, pero no ocupa memoria porque se interpreta sobre la marcha:\n",
    "\n"
   ]
  },
  {
   "cell_type": "markdown",
   "metadata": {},
   "source": [
    "<img src='data:image/png;base64,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'>"
   ]
  },
  {
   "cell_type": "code",
   "execution_count": 29,
   "metadata": {
    "metadata": {}
   },
   "outputs": [
    {
     "data": {
      "text/plain": [
       "range(0, 20)"
      ]
     },
     "execution_count": 29,
     "metadata": {},
     "output_type": "execute_result"
    }
   ],
   "source": [
    "range(20)"
   ]
  },
  {
   "cell_type": "code",
   "execution_count": 30,
   "metadata": {},
   "outputs": [
    {
     "data": {
      "text/plain": [
       "[0, 1, 2, 3, 4, 5, 6, 7, 8, 9, 10, 11, 12, 13, 14, 15, 16, 17, 18, 19]"
      ]
     },
     "execution_count": 30,
     "metadata": {},
     "output_type": "execute_result"
    }
   ],
   "source": [
    "# range -> no es un lista\n",
    "# si quiero convetir el range a una lista debo  hacer\n",
    "[*range(20)]"
   ]
  },
  {
   "cell_type": "code",
   "execution_count": 33,
   "metadata": {},
   "outputs": [
    {
     "data": {
      "text/plain": [
       "[2, 5, 8, 11, 14, 17]"
      ]
     },
     "execution_count": 33,
     "metadata": {},
     "output_type": "execute_result"
    }
   ],
   "source": [
    "# inicio= 2\n",
    "# fin = 20\n",
    "# incremento = 3\n",
    "[*range(2, 20, 3)]"
   ]
  },
  {
   "cell_type": "code",
   "execution_count": 34,
   "metadata": {},
   "outputs": [
    {
     "name": "stdout",
     "output_type": "stream",
     "text": [
      "Informes del Año 2001\n",
      "Informes del Año 2002\n",
      "Informes del Año 2003\n",
      "Informes del Año 2004\n",
      "Informes del Año 2005\n",
      "Informes del Año 2006\n",
      "Informes del Año 2007\n",
      "Informes del Año 2008\n",
      "Informes del Año 2009\n",
      "Informes del Año 2010\n",
      "Informes del Año 2011\n",
      "Informes del Año 2012\n"
     ]
    }
   ],
   "source": [
    "# Generarndo un rango de valores del 2001 al 2012\n",
    "for anio in range(2001, 2013):\n",
    "    print(f\"Informes del Año {anio}\")"
   ]
  },
  {
   "cell_type": "code",
   "execution_count": 35,
   "metadata": {},
   "outputs": [
    {
     "name": "stdout",
     "output_type": "stream",
     "text": [
      "#1\n",
      "#2\n",
      "#3\n",
      "#4\n",
      "#5\n",
      "#6\n",
      "#7\n",
      "#8\n",
      "#9\n",
      "#10\n"
     ]
    }
   ],
   "source": [
    "# por defecto el inicio de la funcion es 0\n",
    "for i in range(10):\n",
    "    print(f'#{i+1}')"
   ]
  },
  {
   "cell_type": "code",
   "execution_count": 36,
   "metadata": {},
   "outputs": [
    {
     "data": {
      "text/plain": [
       "[2, 4, 6, 8, 10, 12, 14, 16, 18]"
      ]
     },
     "execution_count": 36,
     "metadata": {},
     "output_type": "execute_result"
    }
   ],
   "source": [
    "[*range(2, 20, 2)]"
   ]
  },
  {
   "cell_type": "code",
   "execution_count": 37,
   "metadata": {},
   "outputs": [
    {
     "data": {
      "text/plain": [
       "[30, 28, 26, 24, 22, 20, 18, 16, 14, 12, 10, 8, 6, 4]"
      ]
     },
     "execution_count": 37,
     "metadata": {},
     "output_type": "execute_result"
    }
   ],
   "source": [
    "# [start, stop>\n",
    "\n",
    "[*range(30, 2, -2)]"
   ]
  },
  {
   "cell_type": "markdown",
   "metadata": {},
   "source": [
    "# Links Referencia\n",
    "----------------------\n",
    "\n",
    "- [Bucle While](https://realpython.com/python-while-loop/#the-python-break-and-continue-statements)\n",
    "- [Bucle For](https://realpython.com/python-for-loop/)\n"
   ]
  },
  {
   "cell_type": "markdown",
   "metadata": {},
   "source": [
    "## EJERCICIOS\n",
    "-----------------------------"
   ]
  },
  {
   "cell_type": "markdown",
   "metadata": {},
   "source": [
    "1. Realiza un programa que pida al usuario cuantos números quiere introducir. Luego lee todos los números y realiza una media aritmética.\n",
    "#### Nota\n",
    "Usar listas\n",
    "\n"
   ]
  },
  {
   "cell_type": "code",
   "execution_count": 38,
   "metadata": {},
   "outputs": [
    {
     "data": {
      "text/plain": [
       "3"
      ]
     },
     "execution_count": 38,
     "metadata": {},
     "output_type": "execute_result"
    }
   ],
   "source": [
    "cantidad_numeros = int(input('Cuanto numero desea ingresar: '))\n",
    "\n",
    "cantidad_numeros\n"
   ]
  },
  {
   "cell_type": "code",
   "execution_count": 40,
   "metadata": {},
   "outputs": [
    {
     "name": "stdout",
     "output_type": "stream",
     "text": [
      "[156, 8, 25]\n"
     ]
    }
   ],
   "source": [
    "# numero1 = int(input('Ingrese el primer numero: '))\n",
    "# numero2 = int(input('Ingrese el segundo numero: '))\n",
    "# numero3 = int(input('Ingrese el tercer numero: '))\n",
    "\n",
    "\n",
    "# realizo el ingreso de datos por medio de un bucle\n",
    "listado_numeros = []\n",
    "for i in range(cantidad_numeros):\n",
    "    x = int(input(f'Ingrese el numero {i+1}: '))\n",
    "    listado_numeros.append(x)\n",
    "\n",
    "print(listado_numeros)\n"
   ]
  },
  {
   "cell_type": "code",
   "execution_count": 41,
   "metadata": {},
   "outputs": [
    {
     "name": "stdout",
     "output_type": "stream",
     "text": [
      "La media aritmetica es:  63.0\n"
     ]
    }
   ],
   "source": [
    "# para calcular la media aritmetica tenemos 2 metodos\n",
    "\n",
    "# forma 1\n",
    "\n",
    "media_aritmetica = sum(listado_numeros)/cantidad_numeros\n",
    "\n",
    "print('La media aritmetica es: ', media_aritmetica)\n",
    "\n"
   ]
  },
  {
   "cell_type": "code",
   "execution_count": 42,
   "metadata": {},
   "outputs": [
    {
     "name": "stdout",
     "output_type": "stream",
     "text": [
      "La media aritmetica es:  63.0\n"
     ]
    }
   ],
   "source": [
    "# form2\n",
    "\n",
    "sumatoria = 0\n",
    "\n",
    "for numero in listado_numeros:\n",
    "    sumatoria += numero # acumulados resultados\n",
    "\n",
    "\n",
    "media_aritmetica = sumatoria/cantidad_numeros\n",
    "print('La media aritmetica es: ', media_aritmetica)\n",
    "\n"
   ]
  },
  {
   "cell_type": "markdown",
   "metadata": {},
   "source": [
    "2. Calcule la suma de los divisores para un número dado por el usuario."
   ]
  },
  {
   "cell_type": "code",
   "execution_count": 47,
   "metadata": {},
   "outputs": [
    {
     "data": {
      "text/plain": [
       "True"
      ]
     },
     "execution_count": 47,
     "metadata": {},
     "output_type": "execute_result"
    }
   ],
   "source": [
    "# 8= 1,2,4,8\n",
    "\n",
    "\n",
    "8 % 2 ==0"
   ]
  },
  {
   "cell_type": "code",
   "execution_count": 48,
   "metadata": {},
   "outputs": [
    {
     "data": {
      "text/plain": [
       "100"
      ]
     },
     "execution_count": 48,
     "metadata": {},
     "output_type": "execute_result"
    }
   ],
   "source": [
    "numero = int(input('Ingrese un numero: '))\n",
    "numero"
   ]
  },
  {
   "cell_type": "code",
   "execution_count": null,
   "metadata": {},
   "outputs": [],
   "source": [
    "for i in range(1, numero+1):\n",
    "    print(i)"
   ]
  },
  {
   "cell_type": "code",
   "execution_count": 50,
   "metadata": {},
   "outputs": [
    {
     "data": {
      "text/plain": [
       "[1, 2, 4, 5, 10, 20, 25, 50, 100]"
      ]
     },
     "execution_count": 50,
     "metadata": {},
     "output_type": "execute_result"
    }
   ],
   "source": [
    "\n",
    "listado_divisores = []\n",
    "for i in range(numero):\n",
    "    # como range comienza en 0, debo sumar 1 para tener el rango de 1-100\n",
    "    div = i+1\n",
    "\n",
    "    if numero % div == 0:\n",
    "        # print(f'{div} es divisor de {numero}')\n",
    "        listado_divisores.append(div)\n",
    "    pass\n",
    "listado_divisores"
   ]
  },
  {
   "cell_type": "code",
   "execution_count": 51,
   "metadata": {},
   "outputs": [
    {
     "data": {
      "text/plain": [
       "217"
      ]
     },
     "execution_count": 51,
     "metadata": {},
     "output_type": "execute_result"
    }
   ],
   "source": [
    "sum(listado_divisores)"
   ]
  },
  {
   "cell_type": "markdown",
   "metadata": {},
   "source": [
    "3. Escribir un programa que pida al usuario un número entero y muestre por pantalla un triángulo rectángulo como el de más abajo, de altura el número introducido."
   ]
  },
  {
   "cell_type": "markdown",
   "metadata": {},
   "source": [
    "Para n = 4"
   ]
  },
  {
   "cell_type": "code",
   "execution_count": null,
   "metadata": {},
   "outputs": [],
   "source": [
    "#\n",
    "##\n",
    "###\n",
    "####"
   ]
  },
  {
   "cell_type": "code",
   "execution_count": 43,
   "metadata": {},
   "outputs": [
    {
     "data": {
      "text/plain": [
       "'####'"
      ]
     },
     "execution_count": 43,
     "metadata": {},
     "output_type": "execute_result"
    }
   ],
   "source": [
    "'#'*4"
   ]
  },
  {
   "cell_type": "code",
   "execution_count": 44,
   "metadata": {},
   "outputs": [
    {
     "data": {
      "text/plain": [
       "' ###'"
      ]
     },
     "execution_count": 44,
     "metadata": {},
     "output_type": "execute_result"
    }
   ],
   "source": [
    "' ' + '#'*3"
   ]
  },
  {
   "cell_type": "code",
   "execution_count": 1,
   "metadata": {},
   "outputs": [
    {
     "name": "stdout",
     "output_type": "stream",
     "text": [
      "#\n",
      "##\n",
      "###\n",
      "####\n",
      "#####\n"
     ]
    }
   ],
   "source": [
    "h = int(input('Ingrese la altura de la piramide: '))\n",
    "\n",
    "for i in range(1, h+1):\n",
    "    print('#'*i)\n"
   ]
  },
  {
   "cell_type": "markdown",
   "metadata": {},
   "source": [
    "4. Escribir un programa que pida al usuario un número entero y muestre por pantalla si es un número primo o no.\n",
    "\n",
    "\n",
    "Un número primo es aque que no tiene otro divisor más que el mismo número y el 1.\n",
    "\n"
   ]
  },
  {
   "cell_type": "code",
   "execution_count": null,
   "metadata": {},
   "outputs": [],
   "source": []
  },
  {
   "cell_type": "markdown",
   "metadata": {},
   "source": [
    "\n",
    "5. Escribir un programa que pida al usuario un número entero y muestre por pantalla un triángulo rectángulo como el de más abajo.\n",
    "\n"
   ]
  },
  {
   "cell_type": "markdown",
   "metadata": {},
   "source": [
    "Para h = 5\n",
    "\n",
    "\n"
   ]
  },
  {
   "cell_type": "code",
   "execution_count": null,
   "metadata": {},
   "outputs": [],
   "source": [
    "1\n",
    "3 1\n",
    "5 3 1\n",
    "7 5 3 1\n",
    "9 7 5 3 1"
   ]
  },
  {
   "cell_type": "code",
   "execution_count": null,
   "metadata": {},
   "outputs": [],
   "source": []
  }
 ],
 "metadata": {
  "kernelspec": {
   "display_name": "Python 3 (ipykernel)",
   "language": "python",
   "name": "python3"
  },
  "language_info": {
   "codemirror_mode": {
    "name": "ipython",
    "version": 3
   },
   "file_extension": ".py",
   "mimetype": "text/x-python",
   "name": "python",
   "nbconvert_exporter": "python",
   "pygments_lexer": "ipython3",
   "version": "3.12.1"
  }
 },
 "nbformat": 4,
 "nbformat_minor": 4
}
