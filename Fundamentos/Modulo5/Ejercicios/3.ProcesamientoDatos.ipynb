{
 "cells": [
  {
   "cell_type": "markdown",
   "id": "9a004934-be26-482d-b9c4-d4cfac05ce29",
   "metadata": {},
   "source": [
    "## Procesamiento Datos Pandas\n",
    "\n",
    "Para esta prueba deberá emplear los datos del archivo candidates.csv para lo cual deberá:\n",
    "\n",
    "1. Almanecar los datos en una base de datos. (Asegurar el almacenamiento con el tipo de dato apropiado)\n",
    "2. A partir de la lectura de los datos deberá generar un procesamiento reporte. \n",
    "    \n",
    "    (Generé el que consideré más conveniente, realizar lo más complejo que le sea posible)\n",
    "    \n",
    "3. Realizar un código de envio de correos integrado en su solución.\n",
    "\n",
    "El archivo candidates.csv contiene 50k filas de datos sobre candidatos. Los campos que estamos usando son:\n",
    "- First Name\n",
    "- Last Name\n",
    "- Email\n",
    "- Country\n",
    "- Application Date\n",
    "- Yoe (years of experience)\n",
    "- Seniority\n",
    "- Technology\n",
    "- Code Challenge Score\n",
    "- Technical Interview\n"
   ]
  },
  {
   "cell_type": "code",
   "execution_count": null,
   "id": "59cd2be4-533a-46cd-a117-0903c90a97e9",
   "metadata": {},
   "outputs": [],
   "source": []
  },
  {
   "cell_type": "code",
   "execution_count": null,
   "id": "5289e29f-ba7a-48e3-b884-9a7d56b4f71b",
   "metadata": {},
   "outputs": [],
   "source": []
  },
  {
   "cell_type": "code",
   "execution_count": null,
   "id": "a3761f9f-9685-4c4f-bc03-f334cc78599f",
   "metadata": {},
   "outputs": [],
   "source": []
  }
 ],
 "metadata": {
  "kernelspec": {
   "display_name": "Python 3 (ipykernel)",
   "language": "python",
   "name": "python3"
  },
  "language_info": {
   "codemirror_mode": {
    "name": "ipython",
    "version": 3
   },
   "file_extension": ".py",
   "mimetype": "text/x-python",
   "name": "python",
   "nbconvert_exporter": "python",
   "pygments_lexer": "ipython3",
   "version": "3.10.9"
  }
 },
 "nbformat": 4,
 "nbformat_minor": 5
}
